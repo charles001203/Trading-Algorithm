{
 "cells": [
  {
   "cell_type": "markdown",
   "metadata": {},
   "source": [
    "# MIG Quant W2021 Coding Challenge\n",
    "\n",
    "Creator: Arun Annamalai, Brandon Fan\n",
    "\n",
    "> Congratulations for making it past the application interview. The next stage will focus on your ability to interpret a standard data analysis problem and how to solve it. You have been given an `AAPL.csv` file that contains OHLCV (Open, High, Low, Close, & Volume) data. Using this data, we ask you to complete three primary tasks that are described below.\n",
    "\n",
    "You are allowed to use the internet and any packages that you see fit. Write your code in Python 3, any minor version is fine (e.g Python 3.X). \n",
    "\n",
    "You may use unlimited code blocks per part\n",
    "\n",
    "**Note: You will be judged by how well you document your code**\n",
    "\n",
    "**Please do this challenge individually**"
   ]
  },
  {
   "cell_type": "markdown",
   "metadata": {},
   "source": [
    "## Imports"
   ]
  },
  {
   "cell_type": "code",
   "execution_count": 11,
   "metadata": {},
   "outputs": [],
   "source": [
    "# Please include any necessary imports here\n",
    "# Please also comment the reason behind using a specific import\n",
    "import pandas as pd \n",
    "# Pandas library provides functions for analyzing, cleaning, exploring, and manipulating big data"
   ]
  },
  {
   "cell_type": "markdown",
   "metadata": {},
   "source": [
    "## Data Loading"
   ]
  },
  {
   "cell_type": "code",
   "execution_count": 12,
   "metadata": {},
   "outputs": [],
   "source": [
    "data_path = './AAPL.csv'\n",
    "\n",
    "# Continue loading the data below this line"
   ]
  },
  {
   "cell_type": "markdown",
   "metadata": {},
   "source": [
    "## Part 1\n",
    "\n",
    "### Question: On what date was the highest volume of stock traded?\n",
    "\n",
    "**Output Format : \"YYYY-MM-DD\"**"
   ]
  },
  {
   "cell_type": "code",
   "execution_count": 17,
   "metadata": {},
   "outputs": [
    {
     "name": "stdout",
     "output_type": "stream",
     "text": [
      "2020-02-28\n"
     ]
    }
   ],
   "source": [
    "# Read in the given csv file\n",
    "df = pd.read_csv(data_path)\n",
    "\n",
    "# Initialize important variables\n",
    "highest_volume = 0\n",
    "date = \"\"\n",
    "\n",
    "# Using loop to find the highest volume of stock traded\n",
    "for index, row in df.iterrows():\n",
    "    if(highest_volume < row['Volume']):\n",
    "        highest_volume = int(row['Volume'])\n",
    "        date = row['Date']\n",
    "\n",
    "#Output\n",
    "print(date)"
   ]
  },
  {
   "cell_type": "markdown",
   "metadata": {},
   "source": [
    "## Part 2\n",
    "### Find the mean of AAPL's daily Low prices in February\n",
    "**Output Format: Prices should be rounded to two decimal points XX.XX**"
   ]
  },
  {
   "cell_type": "code",
   "execution_count": 19,
   "metadata": {},
   "outputs": [
    {
     "data": {
      "text/plain": [
       "76.68"
      ]
     },
     "execution_count": 19,
     "metadata": {},
     "output_type": "execute_result"
    }
   ],
   "source": [
    "# Initialize important variables\n",
    "sum = 0\n",
    "count = 0\n",
    "\n",
    "# Convert string date into python datetime object\n",
    "df['Date'] = pd.to_datetime(df['Date'])\n",
    "\n",
    "# Create a new dataframe for only February's data\n",
    "newdf = df.loc[df['Date'].dt.month == 2]\n",
    "\n",
    "# Using loop to sum up low prices in February\n",
    "for index, row in newdf.iterrows():\n",
    "    sum += float(row['Low'])\n",
    "    count += 1\n",
    "\n",
    "# Find the mean value of February's low prices\n",
    "mean = sum / count\n",
    "\n",
    "#Round to 2 decimal points\n",
    "round(mean,2)"
   ]
  },
  {
   "cell_type": "markdown",
   "metadata": {},
   "source": [
    "## Part 3\n",
    "### Calculate the 10-Day Simple Moving Average (SMA) for AAPL's Close prices\n",
    "Formula and Explanation: https://www.investopedia.com/terms/s/sma.asp\n",
    "- Use close prices for your calculations with the SMAs in chronological order\n",
    "- Place all values in a list, and print the list\n",
    "\n",
    "**Output Format: Prices should be rounded to two decimal points [XX.XX, XX.XX ... XX.XX]**"
   ]
  },
  {
   "cell_type": "code",
   "execution_count": 26,
   "metadata": {},
   "outputs": [
    {
     "name": "stdout",
     "output_type": "stream",
     "text": [
      "[79.18, 79.27, 79.42, 79.46, 79.78, 79.83, 79.9, 79.92, 80.31, 80.57, 80.69, 80.66, 80.35, 79.81, 78.97, 78.3, 76.96, 75.67, 75.01, 74.27, 73.75, 73.07, 72.47, 71.66, 71.6, 71.17, 70.53, 70.65, 69.23, 68.32, 66.92, 65.72, 64.22, 63.18, 62.22, 61.47, 61.72, 60.97, 61.28, 61.32, 61.17, 61.18, 61.48, 62.44, 62.75, 63.26, 63.5, 64.14, 64.94, 65.7, 66.84, 67.79, 68.68, 68.83, 69.24, 69.47, 69.84, 70.09, 69.88, 69.96, 70.14, 70.29, 70.7, 71.43, 72.04, 72.76, 73.44, 74.24, 75.06, 75.55, 75.95, 76.41, 76.96, 77.35, 77.81, 78.14, 78.36, 78.4, 78.57, 78.84, 79.05, 79.4, 79.61, 79.91, 79.99, 80.35, 80.72, 81.4, 82.27, 82.71, 83.23, 83.76, 84.47, 85.14, 85.87, 86.33, 86.96, 87.53, 87.71, 88.43, 88.8, 89.27, 89.59, 89.9, 90.21, 90.81, 91.16, 91.53, 92.1, 92.58, 93.28, 93.94, 94.6, 95.15, 95.68, 96.17, 96.55, 96.74, 96.45, 96.12, 96.05, 95.67, 95.4, 95.37, 96.36, 97.42, 98.69, 99.97, 102.07, 103.92, 105.72, 107.33, 109.12, 111.01, 111.87, 112.44, 113.03, 113.59, 114.03, 115.36, 116.67, 118.21, 119.56, 120.56, 121.55, 123.0, 124.86, 126.43, 126.69, 126.35, 125.04, 124.29, 122.99, 121.69, 120.74, 119.39, 117.19, 115.08, 113.68, 112.59, 112.49, 111.47, 110.94, 110.97, 110.93, 110.79, 111.15, 111.8, 112.42, 113.06, 113.19, 113.99, 114.67, 115.13, 116.08, 116.78, 117.32, 117.71, 118.31, 118.26, 118.69, 118.87, 118.95, 118.76, 117.82, 117.37, 116.37, 115.83, 114.82, 114.1, 113.39, 113.2, 113.53, 113.89, 114.02, 113.95, 114.78, 115.17, 116.21, 117.37, 118.26, 118.57, 118.53, 118.39, 118.15, 118.07, 117.72, 117.46, 117.44, 117.68, 118.05, 118.54, 118.9, 119.54, 120.6, 121.26, 121.98, 122.56, 122.83, 123.35, 123.82, 124.4, 124.84, 125.29, 126.04, 126.96, 127.83, 129.26, 130.57, 131.15, 131.64, 131.71, 132.14, 131.98, 131.88, 131.99, 131.69, 130.9, 130.51, 130.03, 129.47, 129.31, 129.42, 130.44]\n"
     ]
    }
   ],
   "source": [
    "# Initialize important variables\n",
    "period = 10\n",
    "sum = 0\n",
    "count = 0\n",
    "close_price = list()\n",
    "sma = list()\n",
    "\n",
    "# Using for loop to calculate 10-day SMA accordingly\n",
    "for index, row in df.iterrows():\n",
    "    close_price.append(float(row['Close']))\n",
    "    count += 1\n",
    "    \n",
    "    # calculate SMA for the first 10 close prices\n",
    "    if(count == 10):\n",
    "        for price in close_price:\n",
    "            sum += price\n",
    "        sma.append(round(sum/period,2))\n",
    "    \n",
    "    # calculate SMA for the close prices after the first 10\n",
    "    elif(count > 10):\n",
    "        #remove the oldest close price\n",
    "        close_price.remove(close_price[0])\n",
    "        \n",
    "        for price in close_price:\n",
    "            sum += price\n",
    "        sma.append(round(sum/period,2))\n",
    "    sum = 0\n",
    "    \n",
    "# Output\n",
    "print(sma)"
   ]
  },
  {
   "cell_type": "markdown",
   "metadata": {},
   "source": [
    "## Part 4\n",
    "### Calculate the 10-Day Exponential Moving Average (EMA) for AAPL's Close prices\n",
    "Formula and Explanation: https://www.investopedia.com/terms/e/ema.asp\n",
    "- Please use the following constants in your calculations: smoothing factor = 14, window = 10\n",
    "- The first item in the list should be calculated using SMA (like Part 3), all following items will be an EMA\n",
    "- Use close data for your calculations with the EMAs in chronological order\n",
    "- Round the EMAs in the list to 2 decimal places and round at the end of the calculation.\n",
    "- Subsequent EMA's should be calculated based on prior rounded EMA's\n",
    "- Place all values in a list, and print the list\n",
    "\n",
    "**Output Format: Prices should be rounded to two decimal points [XX.XX, XX.XX ... XX.XX]**"
   ]
  },
  {
   "cell_type": "code",
   "execution_count": 27,
   "metadata": {},
   "outputs": [
    {
     "name": "stdout",
     "output_type": "stream",
     "text": [
      "[79.18, 79.57, 80.1, 80.07, 80.15, 80.09, 80.49, 80.65, 80.77, 80.57, 80.63, 80.53, 80.14, 79.21, 78.06, 77.31, 75.99, 74.9, 74.87, 74.53, 74.68, 74.5, 74.23, 73.33, 73.1, 72.63, 71.49, 71.28, 70.18, 69.48, 68.72, 68.0, 67.01, 66.02, 65.64, 65.27, 65.21, 64.94, 64.84, 64.74, 64.39, 64.15, 63.86, 63.99, 64.05, 64.23, 64.42, 64.69, 65.17, 65.57, 65.97, 66.28, 66.47, 66.51, 66.66, 66.79, 67.03, 67.25, 67.39, 67.65, 67.98, 68.22, 68.5, 68.82, 69.16, 69.52, 69.94, 70.39, 70.77, 71.08, 71.39, 71.66, 72.0, 72.3, 72.65, 72.96, 73.27, 73.54, 73.81, 74.07, 74.31, 74.58, 74.85, 75.12, 75.35, 75.66, 75.98, 76.39, 76.87, 77.15, 77.45, 77.78, 78.18, 78.55, 78.91, 79.23, 79.62, 80.06, 80.43, 80.82, 81.09, 81.42, 81.77, 82.09, 82.4, 82.78, 83.14, 83.55, 83.96, 84.36, 84.73, 85.13, 85.54, 85.89, 86.22, 86.61, 86.94, 87.26, 87.43, 87.59, 87.81, 87.97, 88.18, 88.42, 88.95, 89.54, 90.13, 90.71, 91.38, 91.94, 92.53, 93.0, 93.56, 94.16, 94.73, 95.27, 95.82, 96.36, 96.95, 97.68, 98.43, 99.12, 99.84, 100.49, 101.12, 101.84, 102.66, 103.39, 103.83, 104.26, 104.47, 104.79, 105.0, 105.17, 105.42, 105.66, 105.81, 105.92, 105.94, 106.04, 106.17, 106.19, 106.24, 106.38, 106.58, 106.75, 106.95, 107.17, 107.3, 107.5, 107.63, 107.79, 107.95, 108.15, 108.5, 108.77, 109.04, 109.29, 109.5, 109.64, 109.8, 109.95, 110.07, 110.17, 110.27, 110.4, 110.42, 110.52, 110.49, 110.46, 110.46, 110.55, 110.72, 110.88, 110.99, 111.09, 111.25, 111.4, 111.55, 111.72, 111.87, 111.99, 112.11, 112.21, 112.24, 112.29, 112.36, 112.44, 112.56, 112.74, 112.93, 113.11, 113.27, 113.46, 113.65, 113.79, 113.96, 114.11, 114.24, 114.48, 114.71, 114.95, 115.15, 115.37, 115.65, 115.91, 116.18, 116.52, 116.83, 117.11, 117.37, 117.57, 117.79, 117.93, 118.14, 118.37, 118.54, 118.71, 118.91, 119.07, 119.2, 119.34, 119.54, 119.81]\n"
     ]
    }
   ],
   "source": [
    "# Initialize important variables \n",
    "smoothing_factor = 4\n",
    "window = 10\n",
    "close_price = list()\n",
    "ema = list()\n",
    "ema_yesterday = 0\n",
    "day = 0\n",
    "\n",
    "# Using for loop to calculate 10-day EMA accordingly\n",
    "for index, row in df.iterrows():\n",
    "    close_price.append(float(row['Close']))\n",
    "    \n",
    "    # set value today to the most recent close price\n",
    "    # use later for EMA calculation\n",
    "    value_today = float(row['Close'])\n",
    "    day += 1\n",
    "    \n",
    "    # Calculate the first EMA in the list\n",
    "    if(day == 10):\n",
    "        for price in close_price:\n",
    "            sum += price\n",
    "        ema.append(round(sum/window,2))\n",
    "        ema_yesterday = round(sum/window,2)\n",
    "    \n",
    "    # Calculate the rest of EMAs using given formula\n",
    "    elif(day > 10):\n",
    "        \n",
    "        # Math\n",
    "        multipler = smoothing_factor / (1+day)\n",
    "        ema_today = value_today * multipler + ema_yesterday * (1-multipler)\n",
    "        ema.append(round(ema_today,2))\n",
    "        \n",
    "        # EMA today would become EMA yesterday for the next day\n",
    "        ema_yesterday = round(ema_today,2)\n",
    "    sum = 0\n",
    "\n",
    "# Output\n",
    "print(ema)"
   ]
  },
  {
   "cell_type": "markdown",
   "metadata": {},
   "source": [
    "## Part 5\n",
    "### How would you use these values to make a useful investment algorithm? \n",
    "\n",
    "- **List at least 1 possible solution**\n",
    "- Provide an explanation for how the algorithm would work and a brief description for how to develop it"
   ]
  },
  {
   "cell_type": "markdown",
   "metadata": {},
   "source": [
    "The goal of making a useful investment algorithm is to maximize the expected return of the investment. With that being said, let us take a look at the investment period that is associated with the moving averages. It is a short ten days, which indicates that the moving averages are able to detect a short-term trend of the apple company after a year. To look closer to the data, I transferred relevant data from the code to excel and plotted two graphs: one is comparing the close prices with simple moving averages and the other one is comparing the close prices with exponential moving averages. By comparing the historical close prices with simple moving averages, I notice that 10-days simple moving averages fluctruate with the market prices from time to time, but the market prices are generally a bit higher than the simple moving averages. This indicates that the instrument is trending up and shows a sign of a bullish market. However, since the period is relatively short, analyzing EMA will be a better indicator on the performance for the apple. Based on the observation on the plot, EMA is relatively closer to the data points for close prices compared to SMA is. However, some of the general trends of EMA is very similar to SMA. In general, the trend of apple's market price is going up, with a few trend reversals. \n",
    "\n",
    "My investment algorithm is to buy when moving averages are below market prices and to sell when moving averages are above market prices. This is because moving averages indicate a bullish market when the market price is higher than the average prices and vise versa. With the developed algorithm, an investor can simply pay attention when the moving average indicates a change in the general trend of price movement. This works extremely useful for a big tech giant like apple because its overall trend is going up. Even though market prices sometimes go below moving averages, the general trend overpower these setback and indicates the price will bounce back from these downfalls. Therefore, investing in apple with an algorithm based on moving averages is a good way to go."
   ]
  },
  {
   "cell_type": "markdown",
   "metadata": {},
   "source": [
    "## Submission\n",
    "Please rename this jupyter notebook file to **{uniqname}_W21_Submission.ipynb** and upload to the google form"
   ]
  }
 ],
 "metadata": {
  "kernelspec": {
   "display_name": "Python 3",
   "language": "python",
   "name": "python3"
  },
  "language_info": {
   "codemirror_mode": {
    "name": "ipython",
    "version": 3
   },
   "file_extension": ".py",
   "mimetype": "text/x-python",
   "name": "python",
   "nbconvert_exporter": "python",
   "pygments_lexer": "ipython3",
   "version": "3.8.3"
  }
 },
 "nbformat": 4,
 "nbformat_minor": 2
}
